{
 "cells": [
  {
   "cell_type": "code",
   "execution_count": 1,
   "id": "b7792c23",
   "metadata": {},
   "outputs": [],
   "source": [
    "import pandas as pd\n",
    "import numpy as np\n",
    "import tensorflow as tf"
   ]
  },
  {
   "attachments": {},
   "cell_type": "markdown",
   "id": "935002b6",
   "metadata": {},
   "source": [
    "Data preprocessing"
   ]
  },
  {
   "cell_type": "code",
   "execution_count": 8,
   "id": "ee34ace9",
   "metadata": {},
   "outputs": [],
   "source": [
    "dataset = pd.read_csv('Churn_Modelling.csv')\n",
    "X = dataset.iloc[:, 3:-1].values\n",
    "Y = dataset.iloc[:, -1].values"
   ]
  },
  {
   "cell_type": "code",
   "execution_count": 32,
   "id": "1b433826",
   "metadata": {},
   "outputs": [
    {
     "data": {
      "text/plain": [
       "array([[619, 'France', 0, ..., 1, 1, 101348.88],\n",
       "       [608, 'Spain', 0, ..., 0, 1, 112542.58],\n",
       "       [502, 'France', 0, ..., 1, 0, 113931.57],\n",
       "       ...,\n",
       "       [709, 'France', 0, ..., 0, 1, 42085.58],\n",
       "       [772, 'Germany', 1, ..., 1, 0, 92888.52],\n",
       "       [792, 'France', 0, ..., 1, 0, 38190.78]], dtype=object)"
      ]
     },
     "execution_count": 32,
     "metadata": {},
     "output_type": "execute_result"
    }
   ],
   "source": [
    "X"
   ]
  },
  {
   "cell_type": "code",
   "execution_count": 19,
   "id": "ab701969",
   "metadata": {
    "tags": []
   },
   "outputs": [],
   "source": [
    "# Encode categorical variables\n",
    "\n",
    "# Label encoding gender column\n",
    "# note: one hot might be better\n",
    "from sklearn.preprocessing import LabelEncoder\n",
    "le = LabelEncoder()\n",
    "X[:, 2] = le.fit_transform(X[:, 2])\n",
    "\n"
   ]
  },
  {
   "cell_type": "code",
   "execution_count": 36,
   "id": "15cecfcc",
   "metadata": {},
   "outputs": [],
   "source": [
    "# from sklearn.preprocessing import OneHotEncoder\n",
    "# ohe = OneHotEncoder(sparse=False)\n",
    "# ohe.fit_transform(le.fit_transform(X[:, 1]).reshape(-1, 1))\n",
    "\n",
    "\n",
    "\n",
    "\n",
    "from sklearn.compose import ColumnTransformer\n",
    "from sklearn.preprocessing import OneHotEncoder\n",
    "ct = ColumnTransformer(transformers=[('encoder', OneHotEncoder(), [1])], remainder='passthrough')\n",
    "X = np.array(ct.fit_transform(X))\n",
    "\n",
    "\n"
   ]
  },
  {
   "cell_type": "code",
   "execution_count": 40,
   "id": "3f0f425b",
   "metadata": {},
   "outputs": [],
   "source": [
    "from sklearn.model_selection import train_test_split\n",
    "\n",
    "X_train, X_test, Y_train, Y_test = train_test_split(X, Y, test_size=0.2, random_state=0)\n"
   ]
  },
  {
   "attachments": {},
   "cell_type": "markdown",
   "id": "f8e3bae6",
   "metadata": {},
   "source": [
    "Feature scaling"
   ]
  },
  {
   "cell_type": "code",
   "execution_count": 88,
   "id": "14feaf51",
   "metadata": {},
   "outputs": [],
   "source": [
    "from sklearn.preprocessing import StandardScaler\n",
    "sc = StandardScaler()\n",
    "X_train = sc.fit_transform(X_train)\n",
    "X_test = sc.transform(X_test)"
   ]
  },
  {
   "attachments": {},
   "cell_type": "markdown",
   "id": "b4b6bce1",
   "metadata": {},
   "source": [
    "Build the ANN"
   ]
  },
  {
   "cell_type": "code",
   "execution_count": 89,
   "id": "d790b8eb",
   "metadata": {},
   "outputs": [],
   "source": [
    "\n",
    "# ann = tf.keras.models.Sequential()\n",
    "\n",
    "# # add input layer and 2 hidden layer\n",
    "# ann.add(tf.keras.layers.Dense(units=6, activation='relu'))\n",
    "# ann.add(tf.keras.layers.Dense(units=6, activation='relu'))\n",
    "# ann.add(tf.keras.layers.Dense(units=1, activation='sigmoid'))\n",
    "\n",
    "ann = tf.keras.models.Sequential([\n",
    "    tf.keras.layers.Flatten(input_shape=(12,)),\n",
    "    tf.keras.layers.Dense(units=6, activation='relu'),\n",
    "    tf.keras.layers.Dense(units=6, activation='relu'),\n",
    "    tf.keras.layers.Dense(units=1, activation='sigmoid'),\n",
    "])\n",
    "\n"
   ]
  },
  {
   "attachments": {},
   "cell_type": "markdown",
   "id": "0c55448c",
   "metadata": {},
   "source": [
    "Train the ANN"
   ]
  },
  {
   "cell_type": "code",
   "execution_count": 90,
   "id": "e228fe72",
   "metadata": {},
   "outputs": [],
   "source": [
    "ann.compile(optimizer='adam', loss='binary_crossentropy', metrics=['accuracy'])"
   ]
  },
  {
   "cell_type": "code",
   "execution_count": 91,
   "id": "0a39fcd2",
   "metadata": {},
   "outputs": [
    {
     "name": "stdout",
     "output_type": "stream",
     "text": [
      "Epoch 1/100\n",
      "63/63 [==============================] - 3s 5ms/step - loss: 0.7171 - accuracy: 0.4900\n",
      "Epoch 2/100\n",
      "63/63 [==============================] - 0s 4ms/step - loss: 0.6414 - accuracy: 0.7536\n",
      "Epoch 3/100\n",
      "63/63 [==============================] - 0s 5ms/step - loss: 0.5810 - accuracy: 0.7933\n",
      "Epoch 4/100\n",
      "63/63 [==============================] - 0s 5ms/step - loss: 0.5321 - accuracy: 0.7960\n",
      "Epoch 5/100\n",
      "63/63 [==============================] - 0s 6ms/step - loss: 0.4985 - accuracy: 0.7960\n",
      "Epoch 6/100\n",
      "63/63 [==============================] - 0s 6ms/step - loss: 0.4765 - accuracy: 0.7960\n",
      "Epoch 7/100\n",
      "63/63 [==============================] - 0s 5ms/step - loss: 0.4617 - accuracy: 0.7961\n",
      "Epoch 8/100\n",
      "63/63 [==============================] - 0s 4ms/step - loss: 0.4513 - accuracy: 0.7979\n",
      "Epoch 9/100\n",
      "63/63 [==============================] - 0s 5ms/step - loss: 0.4435 - accuracy: 0.7989\n",
      "Epoch 10/100\n",
      "63/63 [==============================] - 0s 5ms/step - loss: 0.4378 - accuracy: 0.8004\n",
      "Epoch 11/100\n",
      "63/63 [==============================] - 0s 5ms/step - loss: 0.4336 - accuracy: 0.8023\n",
      "Epoch 12/100\n",
      "63/63 [==============================] - 0s 6ms/step - loss: 0.4306 - accuracy: 0.8030\n",
      "Epoch 13/100\n",
      "63/63 [==============================] - 0s 6ms/step - loss: 0.4285 - accuracy: 0.8045\n",
      "Epoch 14/100\n",
      "63/63 [==============================] - 0s 6ms/step - loss: 0.4266 - accuracy: 0.8058\n",
      "Epoch 15/100\n",
      "63/63 [==============================] - 0s 6ms/step - loss: 0.4243 - accuracy: 0.8090\n",
      "Epoch 16/100\n",
      "63/63 [==============================] - 0s 6ms/step - loss: 0.4223 - accuracy: 0.8087\n",
      "Epoch 17/100\n",
      "63/63 [==============================] - 0s 5ms/step - loss: 0.4196 - accuracy: 0.8112\n",
      "Epoch 18/100\n",
      "63/63 [==============================] - 0s 5ms/step - loss: 0.4162 - accuracy: 0.8141\n",
      "Epoch 19/100\n",
      "63/63 [==============================] - 0s 4ms/step - loss: 0.4115 - accuracy: 0.8160\n",
      "Epoch 20/100\n",
      "63/63 [==============================] - 0s 4ms/step - loss: 0.4050 - accuracy: 0.8191\n",
      "Epoch 21/100\n",
      "63/63 [==============================] - 0s 5ms/step - loss: 0.3977 - accuracy: 0.8241\n",
      "Epoch 22/100\n",
      "63/63 [==============================] - 0s 5ms/step - loss: 0.3902 - accuracy: 0.8317\n",
      "Epoch 23/100\n",
      "63/63 [==============================] - 0s 6ms/step - loss: 0.3835 - accuracy: 0.8356\n",
      "Epoch 24/100\n",
      "63/63 [==============================] - 0s 6ms/step - loss: 0.3779 - accuracy: 0.8381\n",
      "Epoch 25/100\n",
      "63/63 [==============================] - 0s 6ms/step - loss: 0.3728 - accuracy: 0.8411\n",
      "Epoch 26/100\n",
      "63/63 [==============================] - 0s 4ms/step - loss: 0.3683 - accuracy: 0.8431\n",
      "Epoch 27/100\n",
      "63/63 [==============================] - 0s 6ms/step - loss: 0.3646 - accuracy: 0.8460\n",
      "Epoch 28/100\n",
      "63/63 [==============================] - 0s 7ms/step - loss: 0.3615 - accuracy: 0.8486\n",
      "Epoch 29/100\n",
      "63/63 [==============================] - 0s 6ms/step - loss: 0.3591 - accuracy: 0.8495\n",
      "Epoch 30/100\n",
      "63/63 [==============================] - 0s 6ms/step - loss: 0.3567 - accuracy: 0.8520\n",
      "Epoch 31/100\n",
      "63/63 [==============================] - 1s 8ms/step - loss: 0.3549 - accuracy: 0.8515\n",
      "Epoch 32/100\n",
      "63/63 [==============================] - 0s 7ms/step - loss: 0.3533 - accuracy: 0.8529\n",
      "Epoch 33/100\n",
      "63/63 [==============================] - 0s 7ms/step - loss: 0.3519 - accuracy: 0.8539\n",
      "Epoch 34/100\n",
      "63/63 [==============================] - 0s 7ms/step - loss: 0.3507 - accuracy: 0.8541\n",
      "Epoch 35/100\n",
      "63/63 [==============================] - 0s 7ms/step - loss: 0.3495 - accuracy: 0.8540\n",
      "Epoch 36/100\n",
      "63/63 [==============================] - 1s 9ms/step - loss: 0.3484 - accuracy: 0.8549\n",
      "Epoch 37/100\n",
      "63/63 [==============================] - 0s 7ms/step - loss: 0.3477 - accuracy: 0.8556\n",
      "Epoch 38/100\n",
      "63/63 [==============================] - 0s 6ms/step - loss: 0.3469 - accuracy: 0.8543\n",
      "Epoch 39/100\n",
      "63/63 [==============================] - 0s 7ms/step - loss: 0.3461 - accuracy: 0.8574\n",
      "Epoch 40/100\n",
      "63/63 [==============================] - 0s 6ms/step - loss: 0.3455 - accuracy: 0.8569\n",
      "Epoch 41/100\n",
      "63/63 [==============================] - 1s 8ms/step - loss: 0.3450 - accuracy: 0.8576\n",
      "Epoch 42/100\n",
      "63/63 [==============================] - 0s 7ms/step - loss: 0.3444 - accuracy: 0.8577\n",
      "Epoch 43/100\n",
      "63/63 [==============================] - 0s 7ms/step - loss: 0.3438 - accuracy: 0.8589\n",
      "Epoch 44/100\n",
      "63/63 [==============================] - 0s 7ms/step - loss: 0.3435 - accuracy: 0.8593\n",
      "Epoch 45/100\n",
      "63/63 [==============================] - 0s 7ms/step - loss: 0.3426 - accuracy: 0.8597\n",
      "Epoch 46/100\n",
      "63/63 [==============================] - 0s 6ms/step - loss: 0.3427 - accuracy: 0.8604\n",
      "Epoch 47/100\n",
      "63/63 [==============================] - 0s 6ms/step - loss: 0.3423 - accuracy: 0.8602\n",
      "Epoch 48/100\n",
      "63/63 [==============================] - 0s 6ms/step - loss: 0.3414 - accuracy: 0.8611\n",
      "Epoch 49/100\n",
      "63/63 [==============================] - 0s 6ms/step - loss: 0.3411 - accuracy: 0.8614\n",
      "Epoch 50/100\n",
      "63/63 [==============================] - 0s 6ms/step - loss: 0.3410 - accuracy: 0.8602\n",
      "Epoch 51/100\n",
      "63/63 [==============================] - 0s 6ms/step - loss: 0.3408 - accuracy: 0.8604\n",
      "Epoch 52/100\n",
      "63/63 [==============================] - 0s 6ms/step - loss: 0.3404 - accuracy: 0.8611\n",
      "Epoch 53/100\n",
      "63/63 [==============================] - 0s 7ms/step - loss: 0.3399 - accuracy: 0.8620\n",
      "Epoch 54/100\n",
      "63/63 [==============================] - 0s 6ms/step - loss: 0.3396 - accuracy: 0.8615\n",
      "Epoch 55/100\n",
      "63/63 [==============================] - 0s 6ms/step - loss: 0.3396 - accuracy: 0.8625\n",
      "Epoch 56/100\n",
      "63/63 [==============================] - 0s 6ms/step - loss: 0.3393 - accuracy: 0.8620\n",
      "Epoch 57/100\n",
      "63/63 [==============================] - 0s 7ms/step - loss: 0.3388 - accuracy: 0.8618\n",
      "Epoch 58/100\n",
      "63/63 [==============================] - 0s 7ms/step - loss: 0.3386 - accuracy: 0.8611\n",
      "Epoch 59/100\n",
      "63/63 [==============================] - 1s 8ms/step - loss: 0.3385 - accuracy: 0.8621\n",
      "Epoch 60/100\n",
      "63/63 [==============================] - 0s 6ms/step - loss: 0.3383 - accuracy: 0.8626\n",
      "Epoch 61/100\n",
      "63/63 [==============================] - 0s 7ms/step - loss: 0.3382 - accuracy: 0.8618\n",
      "Epoch 62/100\n",
      "63/63 [==============================] - 0s 6ms/step - loss: 0.3380 - accuracy: 0.8626\n",
      "Epoch 63/100\n",
      "63/63 [==============================] - 0s 6ms/step - loss: 0.3378 - accuracy: 0.8635\n",
      "Epoch 64/100\n",
      "63/63 [==============================] - 0s 7ms/step - loss: 0.3377 - accuracy: 0.8621\n",
      "Epoch 65/100\n",
      "63/63 [==============================] - 0s 5ms/step - loss: 0.3377 - accuracy: 0.8626\n",
      "Epoch 66/100\n",
      "63/63 [==============================] - 0s 6ms/step - loss: 0.3374 - accuracy: 0.8636\n",
      "Epoch 67/100\n",
      "63/63 [==============================] - 0s 6ms/step - loss: 0.3374 - accuracy: 0.8630\n",
      "Epoch 68/100\n",
      "63/63 [==============================] - 0s 6ms/step - loss: 0.3370 - accuracy: 0.8630\n",
      "Epoch 69/100\n",
      "63/63 [==============================] - 0s 5ms/step - loss: 0.3369 - accuracy: 0.8626\n",
      "Epoch 70/100\n",
      "63/63 [==============================] - 0s 8ms/step - loss: 0.3369 - accuracy: 0.8626\n",
      "Epoch 71/100\n",
      "63/63 [==============================] - 1s 9ms/step - loss: 0.3366 - accuracy: 0.8631\n",
      "Epoch 72/100\n",
      "63/63 [==============================] - 0s 7ms/step - loss: 0.3365 - accuracy: 0.8624\n",
      "Epoch 73/100\n",
      "63/63 [==============================] - 1s 9ms/step - loss: 0.3363 - accuracy: 0.8625\n",
      "Epoch 74/100\n",
      "63/63 [==============================] - 0s 8ms/step - loss: 0.3364 - accuracy: 0.8636\n",
      "Epoch 75/100\n",
      "63/63 [==============================] - 0s 7ms/step - loss: 0.3363 - accuracy: 0.8639\n",
      "Epoch 76/100\n",
      "63/63 [==============================] - 0s 6ms/step - loss: 0.3360 - accuracy: 0.8640\n",
      "Epoch 77/100\n",
      "63/63 [==============================] - 0s 7ms/step - loss: 0.3360 - accuracy: 0.8633\n",
      "Epoch 78/100\n",
      "63/63 [==============================] - 0s 6ms/step - loss: 0.3359 - accuracy: 0.8636\n",
      "Epoch 79/100\n",
      "63/63 [==============================] - 0s 6ms/step - loss: 0.3357 - accuracy: 0.8645\n",
      "Epoch 80/100\n",
      "63/63 [==============================] - 0s 6ms/step - loss: 0.3356 - accuracy: 0.8631\n",
      "Epoch 81/100\n",
      "63/63 [==============================] - 0s 7ms/step - loss: 0.3356 - accuracy: 0.8640\n",
      "Epoch 82/100\n",
      "63/63 [==============================] - 0s 7ms/step - loss: 0.3354 - accuracy: 0.8636\n",
      "Epoch 83/100\n",
      "63/63 [==============================] - 0s 6ms/step - loss: 0.3354 - accuracy: 0.8631\n",
      "Epoch 84/100\n",
      "63/63 [==============================] - 0s 6ms/step - loss: 0.3353 - accuracy: 0.8640\n",
      "Epoch 85/100\n",
      "63/63 [==============================] - 0s 8ms/step - loss: 0.3354 - accuracy: 0.8633\n",
      "Epoch 86/100\n",
      "63/63 [==============================] - 0s 7ms/step - loss: 0.3350 - accuracy: 0.8634\n",
      "Epoch 87/100\n",
      "63/63 [==============================] - 0s 5ms/step - loss: 0.3352 - accuracy: 0.8621\n",
      "Epoch 88/100\n",
      "63/63 [==============================] - 0s 6ms/step - loss: 0.3352 - accuracy: 0.8644\n",
      "Epoch 89/100\n",
      "63/63 [==============================] - 0s 6ms/step - loss: 0.3348 - accuracy: 0.8635\n",
      "Epoch 90/100\n",
      "63/63 [==============================] - 0s 6ms/step - loss: 0.3347 - accuracy: 0.8644\n",
      "Epoch 91/100\n",
      "63/63 [==============================] - 0s 6ms/step - loss: 0.3350 - accuracy: 0.8633\n",
      "Epoch 92/100\n",
      "63/63 [==============================] - 0s 7ms/step - loss: 0.3346 - accuracy: 0.8634\n",
      "Epoch 93/100\n",
      "63/63 [==============================] - 0s 6ms/step - loss: 0.3346 - accuracy: 0.8627\n",
      "Epoch 94/100\n",
      "63/63 [==============================] - 0s 6ms/step - loss: 0.3345 - accuracy: 0.8639\n",
      "Epoch 95/100\n",
      "63/63 [==============================] - 0s 6ms/step - loss: 0.3343 - accuracy: 0.8640\n",
      "Epoch 96/100\n",
      "63/63 [==============================] - 0s 6ms/step - loss: 0.3343 - accuracy: 0.8654\n",
      "Epoch 97/100\n",
      "63/63 [==============================] - 0s 6ms/step - loss: 0.3341 - accuracy: 0.8634\n",
      "Epoch 98/100\n",
      "63/63 [==============================] - 0s 6ms/step - loss: 0.3340 - accuracy: 0.8646\n",
      "Epoch 99/100\n",
      "63/63 [==============================] - 0s 8ms/step - loss: 0.3340 - accuracy: 0.8634\n",
      "Epoch 100/100\n",
      "63/63 [==============================] - 0s 7ms/step - loss: 0.3338 - accuracy: 0.8643\n"
     ]
    },
    {
     "data": {
      "text/plain": [
       "<keras.callbacks.History at 0x287d2283430>"
      ]
     },
     "execution_count": 91,
     "metadata": {},
     "output_type": "execute_result"
    }
   ],
   "source": [
    "ann.fit(X_train, Y_train, batch_size=128, epochs=100)"
   ]
  },
  {
   "cell_type": "code",
   "execution_count": 92,
   "id": "9cc4eac5",
   "metadata": {},
   "outputs": [
    {
     "name": "stdout",
     "output_type": "stream",
     "text": [
      "1/1 [==============================] - 0s 266ms/step\n",
      "[[0.44875535]]\n",
      "1/1 [==============================] - 0s 336ms/step\n"
     ]
    },
    {
     "data": {
      "text/plain": [
       "array([[0.44875535]], dtype=float32)"
      ]
     },
     "execution_count": 92,
     "metadata": {},
     "output_type": "execute_result"
    }
   ],
   "source": [
    "print(ann.predict(sc.transform([[1, 0, 0, 600, 1, 40, 3, 60000, 2, 1, 1, 50000]])))\n",
    "ann.predict([[1, 0, 0, 600, 1, 40, 3, 60000, 2, 1, 1, 50000]])"
   ]
  },
  {
   "cell_type": "code",
   "execution_count": 96,
   "id": "b45d5e45",
   "metadata": {},
   "outputs": [
    {
     "name": "stdout",
     "output_type": "stream",
     "text": [
      "1/1 [==============================] - 0s 60ms/step\n",
      "[[0.44875535]]\n",
      "1/1 [==============================] - 0s 33ms/step\n"
     ]
    },
    {
     "data": {
      "text/plain": [
       "array([[0.44875535]], dtype=float32)"
      ]
     },
     "execution_count": 96,
     "metadata": {},
     "output_type": "execute_result"
    }
   ],
   "source": [
    "print(ann.predict([[0, 0, 1,608,0,41,1,83807.86,1,0,1,112542.58]]))\n",
    "ann.predict(sc.transform([[0, 0, 1,608,0,41,1,83807.86,1,0,1,112542.58]]))"
   ]
  },
  {
   "cell_type": "code",
   "execution_count": 97,
   "id": "8bde857f",
   "metadata": {},
   "outputs": [
    {
     "name": "stdout",
     "output_type": "stream",
     "text": [
      "1/1 [==============================] - 0s 22ms/step\n"
     ]
    },
    {
     "data": {
      "text/plain": [
       "array([[False]])"
      ]
     },
     "execution_count": 97,
     "metadata": {},
     "output_type": "execute_result"
    }
   ],
   "source": [
    "ann.predict(sc.transform([[0, 0, 1,608,0,41,1,83807.86,1,0,1,112542.58]])) > 0.5"
   ]
  },
  {
   "attachments": {},
   "cell_type": "markdown",
   "id": "3bde4ebb",
   "metadata": {},
   "source": [
    "Confusion matrix"
   ]
  },
  {
   "cell_type": "code",
   "execution_count": 105,
   "id": "8a6419fe",
   "metadata": {},
   "outputs": [
    {
     "name": "stdout",
     "output_type": "stream",
     "text": [
      "63/63 [==============================] - 0s 2ms/step\n",
      "[[0 0]\n",
      " [0 1]\n",
      " [0 0]\n",
      " ...\n",
      " [0 0]\n",
      " [0 0]\n",
      " [0 0]]\n"
     ]
    }
   ],
   "source": [
    "y_pred = ann.predict(X_test)\n",
    "y_pred = (y_pred > 0.5)\n",
    "print(np.concatenate((y_pred.reshape(-1, 1), Y_test.reshape(-1, 1)), 1))\n"
   ]
  },
  {
   "cell_type": "code",
   "execution_count": 106,
   "id": "10c30b22",
   "metadata": {},
   "outputs": [
    {
     "name": "stdout",
     "output_type": "stream",
     "text": [
      "[[1506   89]\n",
      " [ 197  208]]\n",
      "0.857\n"
     ]
    }
   ],
   "source": [
    "from sklearn.metrics import confusion_matrix, accuracy_score\n",
    "\n",
    "cm = confusion_matrix(y_pred=y_pred, y_true=Y_test)\n",
    "print(cm)\n",
    "print(accuracy_score(Y_test, y_pred))\n"
   ]
  }
 ],
 "metadata": {
  "kernelspec": {
   "display_name": "Python 3",
   "language": "python",
   "name": "python3"
  },
  "language_info": {
   "codemirror_mode": {
    "name": "ipython",
    "version": 3
   },
   "file_extension": ".py",
   "mimetype": "text/x-python",
   "name": "python",
   "nbconvert_exporter": "python",
   "pygments_lexer": "ipython3",
   "version": "3.10.6 (tags/v3.10.6:9c7b4bd, Aug  1 2022, 21:53:49) [MSC v.1932 64 bit (AMD64)]"
  },
  "vscode": {
   "interpreter": {
    "hash": "623dede66bbc4144da6f96a5b8d0a2353a2160d6af592e82b16d98f9dc6831f3"
   }
  }
 },
 "nbformat": 4,
 "nbformat_minor": 5
}
